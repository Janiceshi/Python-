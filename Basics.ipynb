{
 "cells": [
  {
   "cell_type": "code",
   "execution_count": 1,
   "metadata": {
    "collapsed": false
   },
   "outputs": [
    {
     "name": "stdout",
     "output_type": "stream",
     "text": [
      "[['', 'year', 'month', 'intent', 'police', 'sex', 'age', 'race', 'hispanic', 'place', 'education'], ['1', '2012', '01', 'Suicide', '0', 'M', '34', 'Asian/Pacific Islander', '100', 'Home', '4'], ['2', '2012', '01', 'Suicide', '0', 'F', '21', 'White', '100', 'Street', '3'], ['3', '2012', '01', 'Suicide', '0', 'M', '60', 'White', '100', 'Other specified', '4'], ['4', '2012', '02', 'Suicide', '0', 'M', '64', 'White', '100', 'Home', '4'], ['5', '2012', '02', 'Suicide', '0', 'M', '31', 'White', '100', 'Other specified', '2']]\n"
     ]
    }
   ],
   "source": [
    "import csv\n",
    "f=open(\"guns.csv\",'r')\n",
    "data=list(csv.reader(f))\n",
    "print(data[:6])"
   ]
  },
  {
   "cell_type": "code",
   "execution_count": 2,
   "metadata": {
    "collapsed": false
   },
   "outputs": [
    {
     "name": "stdout",
     "output_type": "stream",
     "text": [
      "['', 'year', 'month', 'intent', 'police', 'sex', 'age', 'race', 'hispanic', 'place', 'education']\n",
      "[['1', '2012', '01', 'Suicide', '0', 'M', '34', 'Asian/Pacific Islander', '100', 'Home', '4'], ['2', '2012', '01', 'Suicide', '0', 'F', '21', 'White', '100', 'Street', '3'], ['3', '2012', '01', 'Suicide', '0', 'M', '60', 'White', '100', 'Other specified', '4'], ['4', '2012', '02', 'Suicide', '0', 'M', '64', 'White', '100', 'Home', '4'], ['5', '2012', '02', 'Suicide', '0', 'M', '31', 'White', '100', 'Other specified', '2']]\n"
     ]
    }
   ],
   "source": [
    "#Extract the first row of data, and assign it to the variable headers.\n",
    "#Remove the first row from data.\n",
    "#Display headers.\n",
    "#Display the first 5 rows of data to verify that you removed the header row properly.\n",
    "header=data[0]\n",
    "data=data[1:]\n",
    "print(header)\n",
    "print(data[:5])"
   ]
  },
  {
   "cell_type": "code",
   "execution_count": 3,
   "metadata": {
    "collapsed": false
   },
   "outputs": [
    {
     "name": "stdout",
     "output_type": "stream",
     "text": [
      "{'2013': 33636, '2012': 33563, '2014': 33599}\n"
     ]
    }
   ],
   "source": [
    "#Use a list comprehension to extract the year column from data.\n",
    "years=[row[1] for row in data]\n",
    "year_counts={}\n",
    "#year is the key\n",
    "for year in years:\n",
    "    if year in year_counts:\n",
    "        year_counts[year]=year_counts[year]+1\n",
    "    else:\n",
    "        year_counts[year]=1\n",
    "print(year_counts)\n",
    "        "
   ]
  },
  {
   "cell_type": "code",
   "execution_count": 4,
   "metadata": {
    "collapsed": false
   },
   "outputs": [
    {
     "name": "stdout",
     "output_type": "stream",
     "text": [
      "{datetime.datetime(2013, 10, 1, 0, 0): 2808, datetime.datetime(2013, 4, 1, 0, 0): 2798, datetime.datetime(2012, 7, 1, 0, 0): 3026, datetime.datetime(2014, 4, 1, 0, 0): 2862, datetime.datetime(2013, 5, 1, 0, 0): 2806, datetime.datetime(2012, 11, 1, 0, 0): 2729, datetime.datetime(2013, 9, 1, 0, 0): 2742, datetime.datetime(2013, 12, 1, 0, 0): 2765, datetime.datetime(2012, 9, 1, 0, 0): 2852, datetime.datetime(2014, 12, 1, 0, 0): 2857, datetime.datetime(2012, 3, 1, 0, 0): 2743, datetime.datetime(2012, 6, 1, 0, 0): 2826, datetime.datetime(2014, 5, 1, 0, 0): 2864, datetime.datetime(2014, 1, 1, 0, 0): 2651, datetime.datetime(2014, 3, 1, 0, 0): 2684, datetime.datetime(2013, 3, 1, 0, 0): 2862, datetime.datetime(2012, 10, 1, 0, 0): 2733, datetime.datetime(2013, 8, 1, 0, 0): 2859, datetime.datetime(2012, 4, 1, 0, 0): 2795, datetime.datetime(2013, 11, 1, 0, 0): 2758, datetime.datetime(2014, 10, 1, 0, 0): 2865, datetime.datetime(2014, 8, 1, 0, 0): 2970, datetime.datetime(2014, 6, 1, 0, 0): 2931, datetime.datetime(2012, 1, 1, 0, 0): 2758, datetime.datetime(2014, 7, 1, 0, 0): 2884, datetime.datetime(2013, 2, 1, 0, 0): 2375, datetime.datetime(2012, 2, 1, 0, 0): 2357, datetime.datetime(2012, 8, 1, 0, 0): 2954, datetime.datetime(2014, 9, 1, 0, 0): 2914, datetime.datetime(2012, 12, 1, 0, 0): 2791, datetime.datetime(2013, 6, 1, 0, 0): 2920, datetime.datetime(2012, 5, 1, 0, 0): 2999, datetime.datetime(2013, 7, 1, 0, 0): 3079, datetime.datetime(2014, 2, 1, 0, 0): 2361, datetime.datetime(2013, 1, 1, 0, 0): 2864, datetime.datetime(2014, 11, 1, 0, 0): 2756}\n"
     ]
    }
   ],
   "source": [
    "import datetime\n",
    "#Use a list comprehension to create a datetime.datetime object for each row. Assign the result to dates.\n",
    "#day=[datetime.datetime(year=int(row[1]),month=int(row[2]),day=1) for row in data]\n",
    "day=[]\n",
    "for row in data:\n",
    "    row_day=datetime.datetime(year=int(row[1]),month=int(row[2]),day=1)\n",
    "    day.append(row_day)\n",
    "\n",
    "#Count up how many times each unique date occurs in dates. Assign the result to date_counts.\n",
    "date_counts={}\n",
    "for u_day in day:\n",
    "    if u_day in date_counts:\n",
    "        date_counts[u_day]=date_counts[u_day]+1\n",
    "    else:\n",
    "        date_counts[u_day]=1\n",
    "print(date_counts)\n",
    "    "
   ]
  },
  {
   "cell_type": "code",
   "execution_count": 5,
   "metadata": {
    "collapsed": false
   },
   "outputs": [
    {
     "name": "stdout",
     "output_type": "stream",
     "text": [
      "sex: {'F': 14449, 'M': 86349}\n",
      "race: {'Black': 23296, 'Asian/Pacific Islander': 1326, 'White': 66237, 'Hispanic': 9022, 'Native American/Native Alaskan': 917}\n"
     ]
    }
   ],
   "source": [
    "#count up how many times each item in the sex column occurs\n",
    "sex=[row[5] for row in data]\n",
    "sex_counts={}\n",
    "for row in sex:\n",
    "    if row in sex_counts:\n",
    "        sex_counts[row]=sex_counts[row]+1\n",
    "    else:\n",
    "        sex_counts[row]=1\n",
    "        \n",
    "race=[row[7] for row in data]\n",
    "race_counts={}\n",
    "for row in race:\n",
    "    if row not in race_counts:\n",
    "        race_counts[row]=0\n",
    "    race_counts[row]+=1\n",
    "print(\"sex:\",sex_counts)\n",
    "print(\"race:\",race_counts)\n",
    "\n",
    "#male use guns more than female\n",
    "#White use the most of guns\n",
    "#in the dimension of day, it is nearly same"
   ]
  },
  {
   "cell_type": "code",
   "execution_count": 7,
   "metadata": {
    "collapsed": false
   },
   "outputs": [
    {
     "name": "stdout",
     "output_type": "stream",
     "text": [
      "[['Id', 'Year', 'Id', 'Sex', 'Id', 'Hispanic Origin', 'Id', 'Id2', 'Geography', 'Total', 'Race Alone - White', 'Race Alone - Hispanic', 'Race Alone - Black or African American', 'Race Alone - American Indian and Alaska Native', 'Race Alone - Asian', 'Race Alone - Native Hawaiian and Other Pacific Islander', 'Two or More Races'], ['cen42010', 'April 1, 2010 Census', 'totsex', 'Both Sexes', 'tothisp', 'Total', '0100000US', '', 'United States', '308745538', '197318956', '44618105', '40250635', '3739506', '15159516', '674625', '6984195']]\n"
     ]
    }
   ],
   "source": [
    "import csv\n",
    "f=open(\"census.csv\",'r')\n",
    "census=list(csv.reader(f))\n",
    "print(census[:3])"
   ]
  },
  {
   "cell_type": "code",
   "execution_count": 22,
   "metadata": {
    "collapsed": false
   },
   "outputs": [
    {
     "name": "stdout",
     "output_type": "stream",
     "text": [
      "{'Black': 40250635, 'Asian/Pacific Islander': 15834141, 'White': 197318956, 'Hispanic': 44618105, 'Native American/Native Alaskan': 3739506}\n",
      "{'Black': 57.8773477735196, 'Asian/Pacific Islander': 8.374309664161762, 'White': 33.56849303419181, 'Hispanic': 20.220491210910907, 'Native American/Native Alaskan': 24.521955573811088}\n"
     ]
    }
   ],
   "source": [
    "x=census[1]\n",
    "mapping={'Black': 40250635, 'Asian/Pacific Islander': 15159516+674625, 'White': 197318956, 'Hispanic': 44618105, 'Native American/Native Alaskan': 3739506}\n",
    "print(mapping)\n",
    "race_per_hundredk={}\n",
    "for keys,value in race_counts.items():\n",
    "    race_per_hundredk[keys]=(value/mapping[keys])*100000\n",
    "print(race_per_hundredk)\n",
    "\n"
   ]
  },
  {
   "cell_type": "code",
   "execution_count": 33,
   "metadata": {
    "collapsed": false
   },
   "outputs": [
    {
     "name": "stdout",
     "output_type": "stream",
     "text": [
      "{'Black': 19510, 'Asian/Pacific Islander': 559, 'White': 9147, 'Hispanic': 5634, 'Native American/Native Alaskan': 326}\n",
      "{'Black': 48.471284987180944, 'Asian/Pacific Islander': 3.530346230970155, 'White': 4.6356417981453335, 'Hispanic': 12.627161104219914, 'Native American/Native Alaskan': 8.717729026240365}\n"
     ]
    }
   ],
   "source": [
    "intents=[rows[3] for rows in data]\n",
    "races=[rows[7] for rows in data]\n",
    "homicide_race_counts={}\n",
    "for items in list(enumerate(intents)):\n",
    "    if items[1]==\"Homicide\":\n",
    "        race_hom=(races[items[0]])\n",
    "        if race_hom in homicide_race_counts:\n",
    "            homicide_race_counts[race_hom]+=1\n",
    "        else:\n",
    "            homicide_race_counts[race_hom]=1\n",
    "print(homicide_race_counts)\n",
    "homicide_race_counts_rate={}\n",
    "for k,v in homicide_race_counts.items():\n",
    "    homicide_race_counts_rate[k]=(v/mapping[k])*100000\n",
    "print(homicide_race_counts_rate)\n",
    "        \n",
    "        \n",
    "    \n",
    "    "
   ]
  },
  {
   "cell_type": "code",
   "execution_count": null,
   "metadata": {
    "collapsed": true
   },
   "outputs": [],
   "source": []
  }
 ],
 "metadata": {
  "kernelspec": {
   "display_name": "Python 3",
   "language": "python",
   "name": "python3"
  },
  "language_info": {
   "codemirror_mode": {
    "name": "ipython",
    "version": 3
   },
   "file_extension": ".py",
   "mimetype": "text/x-python",
   "name": "python",
   "nbconvert_exporter": "python",
   "pygments_lexer": "ipython3",
   "version": "3.4.3"
  }
 },
 "nbformat": 4,
 "nbformat_minor": 0
}
